{
 "cells": [
  {
   "cell_type": "code",
   "execution_count": null,
   "id": "bf9fc359-30cf-440f-b209-6de21aa3dc57",
   "metadata": {},
   "outputs": [],
   "source": []
  }
 ],
 "metadata": {
  "kernelspec": {
   "display_name": "",
   "name": ""
  },
  "language_info": {
   "name": ""
  }
 },
 "nbformat": 4,
 "nbformat_minor": 5
}
